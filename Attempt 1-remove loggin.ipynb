{
 "cells": [
  {
   "cell_type": "code",
   "execution_count": 405,
   "metadata": {
    "collapsed": true
   },
   "outputs": [],
   "source": [
    "import pandas as pd\n",
    "import datetime as dt\n",
    "import numpy as np\n",
    "import scipy.stats as stats\n",
    "from sklearn.preprocessing import OneHotEncoder\n",
    "from sklearn.cross_validation import train_test_split\n",
    "from sklearn import linear_model\n",
    "from sklearn.ensemble import RandomForestClassifier\n",
    "from sklearn import ensemble\n",
    "from sklearn import preprocessing\n",
    "from sklearn.metrics import accuracy_score\n",
    "from sklearn.metrics import confusion_matrix\n",
    "from sklearn import metrics\n",
    "from sklearn import cross_validation\n",
    "from sklearn import preprocessing\n",
    "path='D:/Project Data/Happy_Customer_Bank/'\n",
    "import matplotlib.pyplot as plt\n",
    "import seaborn as sns\n",
    "sns.set(color_codes=True)\n",
    "%matplotlib inline\n",
    "import math"
   ]
  },
  {
   "cell_type": "code",
   "execution_count": 406,
   "metadata": {
    "collapsed": true
   },
   "outputs": [],
   "source": [
    "train=pd.read_csv(path+'Train_nyOWmfK.csv',encoding='iso-8859-1')\n",
    "testdata=pd.read_csv(path+'Test_bCtAN1w.csv',encoding='iso-8859-1')\n",
    "train.ix[train['Gender']=='Female','Gender_']=1\n",
    "train.ix[train['Gender']=='Male','Gender_']=0\n",
    "train.ix[train['Mobile_Verified']=='N','Mobile_Verified_']=0\n",
    "train.ix[train['Mobile_Verified']=='Y','Mobile_Verified_']=1\n",
    "train.ix[train['Filled_Form']=='Y','Filled_Form_']=1\n",
    "train.ix[train['Filled_Form']=='N','Filled_Form_']=0\n",
    "train.ix[train['Device_Type']=='Mobile','Device_Type_']=0\n",
    "train.ix[train['Device_Type']=='Web-browser','Device_Type_']=1\n",
    "\n",
    "train['age']=[(2015-(1900+int(i[-2:]))) for i in train['DOB'].values]  \n",
    "\n",
    "train['Loan_Amount_Applied']=train['Loan_Amount_Applied'].fillna(train['Loan_Amount_Applied'].mean())\n",
    "\n",
    "train['Loan_Tenure_Applied']=train['Loan_Tenure_Applied'].fillna(train['Loan_Tenure_Applied'].median())\n",
    "\n",
    "train['Existing_EMI']=train['Existing_EMI'].fillna(0)\n",
    "\n",
    "train['Loan_Amount_Submitted']=train['Loan_Amount_Submitted'].fillna(train['Loan_Amount_Submitted'].mean())\n",
    "\n",
    "train['Loan_Tenure_Submitted']=train['Loan_Tenure_Submitted'].fillna(train['Loan_Tenure_Submitted'].median())\n",
    "\n",
    "train['Interest_Rate']=train['Interest_Rate'].fillna(train['Interest_Rate'].median())\n",
    "\n",
    "train['Processing_Fee']=train['Processing_Fee'].fillna(train['Processing_Fee'].mean())\n",
    "\n",
    "train['EMI_Loan_Submitted']=train['EMI_Loan_Submitted'].fillna(train['EMI_Loan_Submitted'].mean())\n",
    "\n",
    "Loan_Amount_Applied_mean=train['Loan_Amount_Applied'].mean()\n",
    "\n",
    "Loan_Tenure_Applied_median=train['Loan_Tenure_Applied'].median()\n",
    "\n",
    "Loan_Amount_Submitted_mean=train['Loan_Amount_Submitted'].mean()\n",
    "\n",
    "Loan_Tenure_Submitted_median=train['Loan_Tenure_Submitted'].median()\n",
    "\n",
    "Interest_Rate_median=train['Interest_Rate'].median()\n",
    "\n",
    "Processing_Fee_mean=train['Processing_Fee'].mean()\n",
    "\n",
    "EMI_Loan_Submitted_mean=train['EMI_Loan_Submitted'].mean()"
   ]
  },
  {
   "cell_type": "code",
   "execution_count": 407,
   "metadata": {
    "collapsed": false
   },
   "outputs": [
    {
     "name": "stdout",
     "output_type": "stream",
     "text": [
      "(46278, 31)\n"
     ]
    },
    {
     "data": {
      "text/plain": [
       "(array([0, 1], dtype=int64), array([45298,   980], dtype=int64))"
      ]
     },
     "execution_count": 407,
     "metadata": {},
     "output_type": "execute_result"
    }
   ],
   "source": [
    "train=train[(train['age'] < 60) | (train['Disbursed'] >=1)]\n",
    "train=train[(train['Interest_Rate'] < 30) | (train['Disbursed'] >=1) ]\n",
    "train=train[(train['Loan_Tenure_Applied'] > 1) | (train['Disbursed'] >=1) ]\n",
    "train=train[(train['Monthly_Income'] < 600000) | (train['Monthly_Income'] > 6000)]\n",
    "train=train[(train['Existing_EMI'] <= 0) | (train['Existing_EMI'] >= 1000) | (train['Disbursed'] >=1) ]\n",
    "print(train.shape)\n",
    "np.unique(train['Disbursed'],return_counts=True)"
   ]
  },
  {
   "cell_type": "code",
   "execution_count": 408,
   "metadata": {
    "collapsed": false
   },
   "outputs": [
    {
     "data": {
      "text/plain": [
       "Disbursed                1.000000\n",
       "LoggedIn                 0.722839\n",
       "Var5                     0.112520\n",
       "Var4                     0.055444\n",
       "Mobile_Verified_         0.052755\n",
       "Filled_Form_             0.052652\n",
       "age                      0.041927\n",
       "EMI_Loan_Submitted       0.033587\n",
       "Processing_Fee           0.029205\n",
       "Loan_Amount_Submitted    0.024081\n",
       "Loan_Amount_Applied      0.017475\n",
       "Existing_EMI             0.017364\n",
       "Monthly_Income           0.005569\n",
       "Loan_Tenure_Submitted   -0.012904\n",
       "Device_Type_            -0.014158\n",
       "Loan_Tenure_Applied     -0.036166\n",
       "Gender_                 -0.056377\n",
       "Interest_Rate           -0.065465\n",
       "Name: Disbursed, dtype: float64"
      ]
     },
     "execution_count": 408,
     "metadata": {},
     "output_type": "execute_result"
    }
   ],
   "source": [
    "train.corr()['Disbursed'].order(ascending=False)"
   ]
  },
  {
   "cell_type": "code",
   "execution_count": 409,
   "metadata": {
    "collapsed": true
   },
   "outputs": [],
   "source": [
    "Cat_Var=['Var4','Source','Var2','Var1']\n",
    "Num_Var=[#'Monthly_Income',\n",
    "    'Loan_Amount_Applied',\n",
    "    'Existing_EMI',\n",
    "    'Var5','Loan_Amount_Submitted',\n",
    "    #'Loan_Tenure_Submitted',\n",
    "      'Interest_Rate',\n",
    "    'Processing_Fee',\n",
    "    'EMI_Loan_Submitted']\n",
    "Processed_Var=[#'Gender_',\n",
    "    'Mobile_Verified_','Filled_Form_',\n",
    "    #'Device_Type_',\n",
    "    'age']\n",
    "\n",
    "Target=['Disbursed']"
   ]
  },
  {
   "cell_type": "code",
   "execution_count": 410,
   "metadata": {
    "collapsed": false,
    "scrolled": true
   },
   "outputs": [
    {
     "name": "stdout",
     "output_type": "stream",
     "text": [
      "[8]\n",
      "[0 8]\n",
      "[32]\n",
      "[ 0 32]\n",
      "[7]\n",
      "[0 7]\n",
      "[19]\n",
      "[ 0 19]\n"
     ]
    }
   ],
   "source": [
    "cat_column=['Var4']\n",
    "cat_data=train['Var4'].tolist() +testdata['Var4'].tolist()\n",
    "data_=train[cat_column]\n",
    "le = preprocessing.LabelEncoder()\n",
    "le.fit(cat_data)\n",
    "newcol=le.transform(data_)\n",
    "enc = OneHotEncoder(sparse=False)\n",
    "enc.fit(newcol)\n",
    "print(enc.n_values_)\n",
    "print(enc.feature_indices_)\n",
    "dummy_var4=enc.transform(newcol)\n",
    "\n",
    "cat_column=['Source']\n",
    "cat_data=train['Source'].tolist() +testdata['Source'].tolist()\n",
    "data_=train[cat_column]\n",
    "le1 = preprocessing.LabelEncoder()\n",
    "le1.fit(cat_data)\n",
    "newcol=le1.transform(data_)\n",
    "enc1 = OneHotEncoder(sparse=False)\n",
    "enc1.fit(newcol)\n",
    "print(enc1.n_values_)\n",
    "print(enc1.feature_indices_)\n",
    "dummy_Source=enc1.transform(newcol)\n",
    "\n",
    "\n",
    "cat_column=['Var2']\n",
    "cat_data=train['Var2'].tolist() +testdata['Var2'].tolist()\n",
    "data_=train[cat_column]\n",
    "le2 = preprocessing.LabelEncoder()\n",
    "le2.fit(cat_data)\n",
    "newcol=le2.transform(data_)\n",
    "enc2 = OneHotEncoder(sparse=False)\n",
    "enc2.fit(newcol)\n",
    "print(enc2.n_values_)\n",
    "print(enc2.feature_indices_)\n",
    "dummy_var2=enc2.transform(newcol)\n",
    "\n",
    "cat_column=['Var1']\n",
    "cat_data=train['Var1'].tolist() +testdata['Var1'].tolist()\n",
    "data_=train[cat_column]\n",
    "le3 = preprocessing.LabelEncoder()\n",
    "le3.fit(cat_data)\n",
    "newcol=le3.transform(data_)\n",
    "enc3 = OneHotEncoder(sparse=False)\n",
    "enc3.fit(newcol)\n",
    "print(enc3.n_values_)\n",
    "print(enc3.feature_indices_)\n",
    "dummy_var1=enc3.transform(newcol)"
   ]
  },
  {
   "cell_type": "code",
   "execution_count": 411,
   "metadata": {
    "collapsed": false
   },
   "outputs": [
    {
     "name": "stdout",
     "output_type": "stream",
     "text": [
      "(46278, 41)\n"
     ]
    },
    {
     "data": {
      "text/plain": [
       "(46278, 51)"
      ]
     },
     "execution_count": 411,
     "metadata": {},
     "output_type": "execute_result"
    }
   ],
   "source": [
    "#dummy=np.hstack((dummy_var4,dummy_Source,dummy_var2,dummy_var1))\n",
    "dummy=np.hstack((dummy_var4,dummy_Source,dummy_var2))\n",
    "print(dummy.shape)\n",
    "\n",
    "Num_variable=Num_Var+Processed_Var\n",
    "\n",
    "train_num=train[Num_variable].as_matrix()\n",
    "traindata=np.hstack((train_num,dummy))\n",
    "traindata.shape"
   ]
  },
  {
   "cell_type": "code",
   "execution_count": 412,
   "metadata": {
    "collapsed": false
   },
   "outputs": [
    {
     "name": "stdout",
     "output_type": "stream",
     "text": [
      "(array([0, 1], dtype=int64), array([443,  19], dtype=int64))\n"
     ]
    },
    {
     "data": {
      "text/plain": [
       "((462, 51), (45816, 51), (462, 1), (45816, 1))"
      ]
     },
     "execution_count": 412,
     "metadata": {},
     "output_type": "execute_result"
    }
   ],
   "source": [
    "from sklearn.cross_validation import StratifiedShuffleSplit\n",
    "sss = StratifiedShuffleSplit(train[Target], 2, test_size=.99, random_state=42)\n",
    "for train_index, test_index in sss:\n",
    "    #print(\"TRAIN:\", train_index, \"TEST:\", test_index)\n",
    "    X_train_s, X_test_s = traindata[train_index], traindata[test_index]\n",
    "    y_train_s, y_test_s = train[Target_log].values[train_index], train[Target_log].values[test_index]\n",
    "    \n",
    "print(np.unique([i[0] for i in y_train_s],return_counts=True))\n",
    "\n",
    "X_train_s.shape, X_test_s.shape, y_train_s.shape, y_test_s.shape"
   ]
  },
  {
   "cell_type": "code",
   "execution_count": 413,
   "metadata": {
    "collapsed": false
   },
   "outputs": [
    {
     "name": "stdout",
     "output_type": "stream",
     "text": [
      "0.948664222106\n"
     ]
    },
    {
     "name": "stderr",
     "output_type": "stream",
     "text": [
      "C:\\Anaconda3\\lib\\site-packages\\sklearn\\utils\\__init__.py:93: DeprecationWarning: Function balance_weights is deprecated; balance_weights is an internal function and will be removed in 0.16\n",
      "  warnings.warn(msg, category=DeprecationWarning)\n",
      "C:\\Anaconda3\\lib\\site-packages\\sklearn\\ensemble\\gradient_boosting.py:1127: DataConversionWarning: A column-vector y was passed when a 1d array was expected. Please change the shape of y to (n_samples, ), for example using ravel().\n",
      "  y = column_or_1d(y, warn=True)\n"
     ]
    },
    {
     "data": {
      "text/plain": [
       "array([[43393,  1750],\n",
       "       [  602,    71]])"
      ]
     },
     "execution_count": 413,
     "metadata": {},
     "output_type": "execute_result"
    }
   ],
   "source": [
    "\n",
    "sampling=np.asarray([i[0] for i in target_train_1.tolist()])\n",
    "sample_weights = preprocessing.balance_weights(sampling)\n",
    "rfc = ensemble.GradientBoostingClassifier(n_estimators=500)\n",
    "rfc.fit(X_train_s,y_train_s)\n",
    "predict_class=rfc.predict(X_test_s)\n",
    "print(accuracy_score(predict_class, y_test_s))\n",
    "confusion_matrix(predict_class, y_test_s)\n",
    "#metrics.auc(predict_class, target_test_1)"
   ]
  },
  {
   "cell_type": "code",
   "execution_count": 414,
   "metadata": {
    "collapsed": false
   },
   "outputs": [
    {
     "name": "stdout",
     "output_type": "stream",
     "text": [
      "0.959533787323\n"
     ]
    },
    {
     "name": "stderr",
     "output_type": "stream",
     "text": [
      "C:\\Anaconda3\\lib\\site-packages\\sklearn\\preprocessing\\label.py:125: DataConversionWarning: A column-vector y was passed when a 1d array was expected. Please change the shape of y to (n_samples, ), for example using ravel().\n",
      "  y = column_or_1d(y, warn=True)\n"
     ]
    },
    {
     "data": {
      "text/plain": [
       "array([[43958,  1817],\n",
       "       [   37,     4]])"
      ]
     },
     "execution_count": 414,
     "metadata": {},
     "output_type": "execute_result"
    }
   ],
   "source": [
    "logistic = linear_model.LogisticRegression()\n",
    "logistic.fit(X_train_s,y_train_s)\n",
    "predict_class=logistic.predict(X_test_s)\n",
    "print(accuracy_score(predict_class, y_test_s))\n",
    "confusion_matrix(predict_class, y_test_s)"
   ]
  },
  {
   "cell_type": "code",
   "execution_count": 415,
   "metadata": {
    "collapsed": false
   },
   "outputs": [],
   "source": [
    "testdata.ix[testdata['Gender']=='Female','Gender_']=1\n",
    "testdata.ix[testdata['Gender']=='Male','Gender_']=0\n",
    "testdata.ix[testdata['Mobile_Verified']=='N','Mobile_Verified_']=0\n",
    "testdata.ix[testdata['Mobile_Verified']=='Y','Mobile_Verified_']=1\n",
    "testdata.ix[testdata['Filled_Form']=='Y','Filled_Form_']=1\n",
    "testdata.ix[testdata['Filled_Form']=='N','Filled_Form_']=0\n",
    "testdata.ix[testdata['Device_Type']=='Mobile','Device_Type_']=0\n",
    "testdata.ix[testdata['Device_Type']=='Web-browser','Device_Type_']=1\n",
    "\n",
    "testdata['age']=[(2015-(1900+int(i[-2:]))) for i in testdata['DOB'].values]  \n",
    "\n",
    "testdata['Loan_Amount_Applied']=testdata['Loan_Amount_Applied'].fillna(Loan_Amount_Applied_mean)\n",
    "\n",
    "testdata['Loan_Tenure_Applied']=testdata['Loan_Tenure_Applied'].fillna(Loan_Tenure_Applied_median)\n",
    "\n",
    "testdata['Existing_EMI']=testdata['Existing_EMI'].fillna(0)\n",
    "\n",
    "testdata['Loan_Amount_Submitted']=testdata['Loan_Amount_Submitted'].fillna(Loan_Amount_Submitted_mean)\n",
    "\n",
    "testdata['Loan_Tenure_Submitted']=testdata['Loan_Tenure_Submitted'].fillna(Loan_Tenure_Submitted_median)\n",
    "\n",
    "testdata['Interest_Rate']=testdata['Interest_Rate'].fillna(Interest_Rate_median)\n",
    "\n",
    "testdata['Processing_Fee']=testdata['Processing_Fee'].fillna(Processing_Fee_mean)\n",
    "\n",
    "testdata['EMI_Loan_Submitted']=testdata['EMI_Loan_Submitted'].fillna(EMI_Loan_Submitted_mean)\n"
   ]
  },
  {
   "cell_type": "code",
   "execution_count": 416,
   "metadata": {
    "collapsed": false
   },
   "outputs": [
    {
     "name": "stdout",
     "output_type": "stream",
     "text": [
      "[8]\n",
      "[0 8]\n",
      "[32]\n",
      "[ 0 32]\n",
      "[7]\n",
      "[0 7]\n",
      "[19]\n",
      "[ 0 19]\n"
     ]
    }
   ],
   "source": [
    "cat_column=['Var4']\n",
    "data_=testdata[cat_column]\n",
    "newcol=le.transform(data_)\n",
    "print(enc.n_values_)\n",
    "print(enc.feature_indices_)\n",
    "dummy_var4_test=enc.transform(newcol)\n",
    "\n",
    "cat_column=['Source']\n",
    "data_=testdata[cat_column]\n",
    "newcol=le1.transform(data_)\n",
    "print(enc1.n_values_)\n",
    "print(enc1.feature_indices_)\n",
    "dummy_Source_test=enc1.transform(newcol)\n",
    "\n",
    "cat_column=['Var2']\n",
    "data_=testdata[cat_column]\n",
    "newcol=le2.transform(data_)\n",
    "print(enc2.n_values_)\n",
    "print(enc2.feature_indices_)\n",
    "dummy_var2_test=enc2.transform(newcol)\n",
    "\n",
    "cat_column=['Var1']\n",
    "data_=testdata[cat_column]\n",
    "newcol=le3.transform(data_)\n",
    "print(enc3.n_values_)\n",
    "print(enc3.feature_indices_)\n",
    "dummy_var1_test=enc3.transform(newcol)\n"
   ]
  },
  {
   "cell_type": "code",
   "execution_count": 417,
   "metadata": {
    "collapsed": false
   },
   "outputs": [
    {
     "name": "stdout",
     "output_type": "stream",
     "text": [
      "(37717, 41)\n",
      "(37717, 51)\n"
     ]
    }
   ],
   "source": [
    "#dummy_test=np.hstack((dummy_var4_test,dummy_Source_test,dummy_var2_test,dummy_var1_test))\n",
    "dummy_test=np.hstack((dummy_var4_test,dummy_Source_test,dummy_var2_test))\n",
    "print(dummy_test.shape)\n",
    "testdata_num=testdata[Num_variable].as_matrix()\n",
    "testdata_final=np.hstack((testdata_num,dummy_test))\n",
    "print(testdata_final.shape)"
   ]
  },
  {
   "cell_type": "code",
   "execution_count": 418,
   "metadata": {
    "collapsed": false
   },
   "outputs": [
    {
     "name": "stdout",
     "output_type": "stream",
     "text": [
      "(array([0, 1], dtype=int64), array([37252,   465], dtype=int64))\n"
     ]
    }
   ],
   "source": [
    "predict_class1=rfc.predict(testdata_final)\n",
    "print(np.unique(predict_class1,return_counts=True))\n",
    "predict_class1=predict_class1.tolist()\n",
    "submis=pd.DataFrame(data={'ID':testdata['ID'],'Disbursed':predict_class1},columns=['ID','Disbursed'])\n",
    "submis.to_csv(path+'submis_11.csv',index=False)"
   ]
  },
  {
   "cell_type": "code",
   "execution_count": 419,
   "metadata": {
    "collapsed": false
   },
   "outputs": [
    {
     "name": "stdout",
     "output_type": "stream",
     "text": [
      "(array([0, 1], dtype=int64), array([37659,    58], dtype=int64))\n"
     ]
    }
   ],
   "source": [
    "predict_log_test=logistic.predict(testdata_final)\n",
    "print(np.unique(predict_log_test,return_counts=True))\n",
    "predict_log_test=predict_log_test.tolist()\n",
    "sub=pd.DataFrame(data={'ID':testdata['ID'],'Disbursed':predict_log_test},columns=['ID','Disbursed'])\n",
    "sub.to_csv(path+'sub_12.csv',index=False)"
   ]
  },
  {
   "cell_type": "code",
   "execution_count": null,
   "metadata": {
    "collapsed": false
   },
   "outputs": [],
   "source": []
  },
  {
   "cell_type": "code",
   "execution_count": null,
   "metadata": {
    "collapsed": false
   },
   "outputs": [],
   "source": []
  },
  {
   "cell_type": "code",
   "execution_count": null,
   "metadata": {
    "collapsed": true
   },
   "outputs": [],
   "source": []
  },
  {
   "cell_type": "code",
   "execution_count": null,
   "metadata": {
    "collapsed": false
   },
   "outputs": [],
   "source": []
  },
  {
   "cell_type": "code",
   "execution_count": null,
   "metadata": {
    "collapsed": true
   },
   "outputs": [],
   "source": []
  }
 ],
 "metadata": {
  "kernelspec": {
   "display_name": "Python 3",
   "language": "python",
   "name": "python3"
  },
  "language_info": {
   "codemirror_mode": {
    "name": "ipython",
    "version": 3
   },
   "file_extension": ".py",
   "mimetype": "text/x-python",
   "name": "python",
   "nbconvert_exporter": "python",
   "pygments_lexer": "ipython3",
   "version": "3.4.3"
  }
 },
 "nbformat": 4,
 "nbformat_minor": 0
}
