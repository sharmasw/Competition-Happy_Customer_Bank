{
 "cells": [
  {
   "cell_type": "code",
   "execution_count": 3,
   "metadata": {
    "collapsed": true
   },
   "outputs": [],
   "source": [
    "import pandas as pd\n",
    "import datetime as dt\n",
    "import numpy as np\n",
    "import scipy.stats as stats\n",
    "from sklearn.preprocessing import OneHotEncoder\n",
    "from sklearn.cross_validation import train_test_split\n",
    "from sklearn import preprocessing\n",
    "path='D:/Project Data/Happy_Customer_Bank/'\n",
    "import matplotlib.pyplot as plt\n",
    "import seaborn as sns\n",
    "sns.set(color_codes=True)\n",
    "%matplotlib inline\n",
    "import math"
   ]
  },
  {
   "cell_type": "code",
   "execution_count": 4,
   "metadata": {
    "collapsed": true
   },
   "outputs": [],
   "source": [
    "train=pd.read_csv(path+'Train_nyOWmfK.csv',encoding='iso-8859-1')\n",
    "testdata=pd.read_csv(path+'Test_bCtAN1w.csv',encoding='iso-8859-1')\n",
    "train.ix[train['Gender']=='Female','Gender_']=1\n",
    "train.ix[train['Gender']=='Male','Gender_']=0\n",
    "train.ix[train['Mobile_Verified']=='N','Mobile_Verified_']=0\n",
    "train.ix[train['Mobile_Verified']=='Y','Mobile_Verified_']=1\n",
    "train.ix[train['Filled_Form']=='Y','Filled_Form_']=1\n",
    "train.ix[train['Filled_Form']=='N','Filled_Form_']=0\n",
    "train.ix[train['Device_Type']=='Mobile','Device_Type_']=0\n",
    "train.ix[train['Device_Type']=='Web-browser','Device_Type_']=1\n",
    "\n",
    "train['age']=[(2015-(1900+int(i[-2:]))) for i in train['DOB'].values]  \n",
    "\n",
    "train['Loan_Amount_Applied']=train['Loan_Amount_Applied'].fillna(train['Loan_Amount_Applied'].mean())\n",
    "\n",
    "train['Loan_Tenure_Applied']=train['Loan_Tenure_Applied'].fillna(train['Loan_Tenure_Applied'].median())\n",
    "\n",
    "train['Existing_EMI']=train['Existing_EMI'].fillna(0)\n",
    "\n",
    "train['Loan_Amount_Submitted']=train['Loan_Amount_Submitted'].fillna(train['Loan_Amount_Submitted'].mean())\n",
    "\n",
    "train['Loan_Tenure_Submitted']=train['Loan_Tenure_Submitted'].fillna(train['Loan_Tenure_Submitted'].median())\n",
    "\n",
    "train['Interest_Rate']=train['Interest_Rate'].fillna(train['Interest_Rate'].median())\n",
    "\n",
    "train['Processing_Fee']=train['Processing_Fee'].fillna(train['Processing_Fee'].mean())\n",
    "\n",
    "train['EMI_Loan_Submitted']=train['EMI_Loan_Submitted'].fillna(train['EMI_Loan_Submitted'].mean())"
   ]
  },
  {
   "cell_type": "code",
   "execution_count": null,
   "metadata": {
    "collapsed": true
   },
   "outputs": [],
   "source": [
    "for i in "
   ]
  },
  {
   "cell_type": "code",
   "execution_count": null,
   "metadata": {
    "collapsed": true
   },
   "outputs": [],
   "source": []
  },
  {
   "cell_type": "code",
   "execution_count": null,
   "metadata": {
    "collapsed": true
   },
   "outputs": [],
   "source": []
  },
  {
   "cell_type": "code",
   "execution_count": null,
   "metadata": {
    "collapsed": true
   },
   "outputs": [],
   "source": []
  },
  {
   "cell_type": "code",
   "execution_count": 5,
   "metadata": {
    "collapsed": false
   },
   "outputs": [
    {
     "data": {
      "text/plain": [
       "444554443"
      ]
     },
     "execution_count": 5,
     "metadata": {},
     "output_type": "execute_result"
    },
    {
     "data": {
      "image/png": "[encoded data removed]",
      "text/plain": [
       "<matplotlib.figure.Figure at 0xa2a9860>"
      ]
     },
     "metadata": {},
     "output_type": "display_data"
    }
   ],
   "source": [
    "sns.distplot(train['Monthly_Income'])\n",
    "max(train['Monthly_Income'])"
   ]
  },
  {
   "cell_type": "code",
   "execution_count": 6,
   "metadata": {
    "collapsed": true
   },
   "outputs": [],
   "source": [
    "Loan_Amount_Applied_mean=train['Loan_Amount_Applied'].mean()\n",
    "\n",
    "Loan_Tenure_Applied_median=train['Loan_Tenure_Applied'].median()\n",
    "\n",
    "Loan_Amount_Submitted_mean=train['Loan_Amount_Submitted'].mean()\n",
    "\n",
    "Loan_Tenure_Submitted_median=train['Loan_Tenure_Submitted'].median()\n",
    "\n",
    "Interest_Rate_median=train['Interest_Rate'].median()\n",
    "\n",
    "Processing_Fee_mean=train['Processing_Fee'].mean()\n",
    "\n",
    "EMI_Loan_Submitted_mean=train['EMI_Loan_Submitted'].mean()"
   ]
  },
  {
   "cell_type": "code",
   "execution_count": 7,
   "metadata": {
    "collapsed": true
   },
   "outputs": [],
   "source": [
    "train=train[train['age'] < 60]\n",
    "#train=train[train['Interest_Rate'] < 30]\n",
    "#train=train[train['Loan_Amount_Applied'] < 300000]\n",
    "train=train[train['Monthly_Income'] < 600000]"
   ]
  },
  {
   "cell_type": "code",
   "execution_count": 8,
   "metadata": {
    "collapsed": false
   },
   "outputs": [
    {
     "data": {
      "text/plain": [
       "Disbursed                1.000000\n",
       "LoggedIn                 0.683175\n",
       "Var5                     0.117448\n",
       "Monthly_Income           0.070370\n",
       "Existing_EMI             0.069120\n",
       "Mobile_Verified_         0.044346\n",
       "Loan_Amount_Submitted    0.039312\n",
       "age                      0.039029\n",
       "Filled_Form_             0.036973\n",
       "Var4                     0.036830\n",
       "Loan_Tenure_Applied      0.036793\n",
       "EMI_Loan_Submitted       0.033767\n",
       "Loan_Amount_Applied      0.032255\n",
       "Processing_Fee           0.022651\n",
       "Device_Type_             0.014688\n",
       "Loan_Tenure_Submitted   -0.005005\n",
       "Gender_                 -0.043890\n",
       "Interest_Rate           -0.055434\n",
       "Name: Disbursed, dtype: float64"
      ]
     },
     "execution_count": 8,
     "metadata": {},
     "output_type": "execute_result"
    }
   ],
   "source": [
    "train.corr()['Disbursed'].order(ascending=False)"
   ]
  },
  {
   "cell_type": "code",
   "execution_count": 9,
   "metadata": {
    "collapsed": true
   },
   "outputs": [],
   "source": [
    "Cat_Var=['Var4','Source','Var2','Var1']\n",
    "Num_Var=['Monthly_Income',\n",
    "    #'Loan_Amount_Applied',\n",
    "    #'Existing_EMI',\n",
    "    'Var5','Loan_Amount_Submitted',\n",
    "    #'Loan_Tenure_Submitted',\n",
    "       # 'Interest_Rate',\n",
    "    #'Processing_Fee',\n",
    "    'EMI_Loan_Submitted']\n",
    "Processed_Var=[#'Gender_',\n",
    "    'Mobile_Verified_','Filled_Form_',\n",
    "    #'Device_Type_',\n",
    "    'age']\n",
    "\n",
    "Target_log=['LoggedIn']\n",
    "Target=['Disbursed']"
   ]
  },
  {
   "cell_type": "code",
   "execution_count": 10,
   "metadata": {
    "collapsed": false
   },
   "outputs": [],
   "source": [
    "Num_Var_log=Num_Var +['LoggedIn']"
   ]
  },
  {
   "cell_type": "code",
   "execution_count": 11,
   "metadata": {
    "collapsed": false,
    "scrolled": true
   },
   "outputs": [
    {
     "name": "stdout",
     "output_type": "stream",
     "text": [
      "[8]\n",
      "[0 8]\n",
      "[34]\n",
      "[ 0 34]\n",
      "[7]\n",
      "[0 7]\n",
      "[19]\n",
      "[ 0 19]\n"
     ]
    }
   ],
   "source": [
    "cat_column=['Var4']\n",
    "cat_data=train['Var4'].tolist() +testdata['Var4'].tolist()\n",
    "data_=train[cat_column]\n",
    "le = preprocessing.LabelEncoder()\n",
    "le.fit(cat_data)\n",
    "newcol=le.transform(data_)\n",
    "enc = OneHotEncoder(sparse=False)\n",
    "enc.fit(newcol)\n",
    "print(enc.n_values_)\n",
    "print(enc.feature_indices_)\n",
    "dummy_var4=enc.transform(newcol)\n",
    "\n",
    "cat_column=['Source']\n",
    "cat_data=train['Source'].tolist() +testdata['Source'].tolist()\n",
    "data_=train[cat_column]\n",
    "le1 = preprocessing.LabelEncoder()\n",
    "le1.fit(cat_data)\n",
    "newcol=le1.transform(data_)\n",
    "enc1 = OneHotEncoder(sparse=False)\n",
    "enc1.fit(newcol)\n",
    "print(enc1.n_values_)\n",
    "print(enc1.feature_indices_)\n",
    "dummy_Source=enc1.transform(newcol)\n",
    "\n",
    "\n",
    "cat_column=['Var2']\n",
    "cat_data=train['Var2'].tolist() +testdata['Var2'].tolist()\n",
    "data_=train[cat_column]\n",
    "le2 = preprocessing.LabelEncoder()\n",
    "le2.fit(cat_data)\n",
    "newcol=le2.transform(data_)\n",
    "enc2 = OneHotEncoder(sparse=False)\n",
    "enc2.fit(newcol)\n",
    "print(enc2.n_values_)\n",
    "print(enc2.feature_indices_)\n",
    "dummy_var2=enc2.transform(newcol)\n",
    "\n",
    "cat_column=['Var1']\n",
    "cat_data=train['Var1'].tolist() +testdata['Var1'].tolist()\n",
    "data_=train[cat_column]\n",
    "le3 = preprocessing.LabelEncoder()\n",
    "le3.fit(cat_data)\n",
    "newcol=le3.transform(data_)\n",
    "enc3 = OneHotEncoder(sparse=False)\n",
    "enc3.fit(newcol)\n",
    "print(enc3.n_values_)\n",
    "print(enc3.feature_indices_)\n",
    "dummy_var1=enc3.transform(newcol)"
   ]
  },
  {
   "cell_type": "code",
   "execution_count": 12,
   "metadata": {
    "collapsed": false
   },
   "outputs": [],
   "source": [
    "dummy=np.hstack((dummy_var4,dummy_Source,dummy_var2,dummy_var1))"
   ]
  },
  {
   "cell_type": "code",
   "execution_count": 13,
   "metadata": {
    "collapsed": false
   },
   "outputs": [
    {
     "data": {
      "text/plain": [
       "(86527, 64)"
      ]
     },
     "execution_count": 13,
     "metadata": {},
     "output_type": "execute_result"
    }
   ],
   "source": [
    "dummy.shape"
   ]
  },
  {
   "cell_type": "code",
   "execution_count": 14,
   "metadata": {
    "collapsed": true
   },
   "outputs": [],
   "source": [
    "Num_variable=Num_Var+Processed_Var"
   ]
  },
  {
   "cell_type": "code",
   "execution_count": 15,
   "metadata": {
    "collapsed": false
   },
   "outputs": [
    {
     "data": {
      "text/plain": [
       "(86527, 71)"
      ]
     },
     "execution_count": 15,
     "metadata": {},
     "output_type": "execute_result"
    }
   ],
   "source": [
    "train_num=train[Num_variable].as_matrix()\n",
    "traindata=np.hstack((train_num,dummy))\n",
    "traindata.shape"
   ]
  },
  {
   "cell_type": "code",
   "execution_count": 16,
   "metadata": {
    "collapsed": false
   },
   "outputs": [
    {
     "data": {
      "text/plain": [
       "((57973, 71), (28554, 71), (57973, 1), (28554, 1))"
      ]
     },
     "execution_count": 16,
     "metadata": {},
     "output_type": "execute_result"
    }
   ],
   "source": [
    "train_1, test_1,target_train_1, target_test_1 =train_test_split(traindata,train[Target_log],\n",
    "                                                                        test_size=.33,random_state=42)\n",
    "train_1.shape, test_1.shape,target_train_1.shape, target_test_1.shape"
   ]
  },
  {
   "cell_type": "code",
   "execution_count": 81,
   "metadata": {
    "collapsed": true
   },
   "outputs": [],
   "source": []
  },
  {
   "cell_type": "code",
   "execution_count": 121,
   "metadata": {
    "collapsed": false
   },
   "outputs": [],
   "source": []
  },
  {
   "cell_type": "code",
   "execution_count": 123,
   "metadata": {
    "collapsed": false,
    "scrolled": true
   },
   "outputs": [],
   "source": [
    "from sklearn.cross_validation import StratifiedShuffleSplit\n",
    "sss = StratifiedShuffleSplit(train[Target_log], 2, test_size=.99, random_state=0)\n",
    "for train_index, test_index in sss:\n",
    "    #print(\"TRAIN:\", train_index, \"TEST:\", test_index)\n",
    "    X_train_s, X_test_s = traindata[train_index], traindata[test_index]\n",
    "    y_train_s, y_test_s = train[Target_log].values[train_index], train[Target_log].values[test_index]"
   ]
  },
  {
   "cell_type": "code",
   "execution_count": 124,
   "metadata": {
    "collapsed": false
   },
   "outputs": [
    {
     "data": {
      "text/plain": [
       "(865, 71)"
      ]
     },
     "execution_count": 124,
     "metadata": {},
     "output_type": "execute_result"
    }
   ],
   "source": [
    "X_train.shape"
   ]
  },
  {
   "cell_type": "code",
   "execution_count": 125,
   "metadata": {
    "collapsed": false,
    "scrolled": true
   },
   "outputs": [
    {
     "data": {
      "text/plain": [
       "(array([0, 1], dtype=int64), array([840,  25], dtype=int64))"
      ]
     },
     "execution_count": 125,
     "metadata": {},
     "output_type": "execute_result"
    }
   ],
   "source": [
    "np.unique([i[0]for i in y_train],return_counts=True)"
   ]
  },
  {
   "cell_type": "code",
   "execution_count": null,
   "metadata": {
    "collapsed": true
   },
   "outputs": [],
   "source": []
  },
  {
   "cell_type": "code",
   "execution_count": null,
   "metadata": {
    "collapsed": true
   },
   "outputs": [],
   "source": []
  }
 ],
 "metadata": {
  "kernelspec": {
   "display_name": "Python 3",
   "language": "python",
   "name": "python3"
  },
  "language_info": {
   "codemirror_mode": {
    "name": "ipython",
    "version": 3
   },
   "file_extension": ".py",
   "mimetype": "text/x-python",
   "name": "python",
   "nbconvert_exporter": "python",
   "pygments_lexer": "ipython3",
   "version": "3.4.3"
  }
 },
 "nbformat": 4,
 "nbformat_minor": 0
}
